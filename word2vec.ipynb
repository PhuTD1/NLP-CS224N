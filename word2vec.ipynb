{
 "cells": [
  {
   "cell_type": "code",
   "execution_count": 1,
   "metadata": {},
   "outputs": [],
   "source": [
    "# -*- coding: utf-8 -*-\n",
    "import os\n",
    "import pandas as pd\n",
    "import string\n",
    "from pyvi import ViTokenizer\n",
    "from gensim.models import Word2Vec\n",
    "\n"
   ]
  },
  {
   "cell_type": "code",
   "execution_count": 2,
   "metadata": {},
   "outputs": [],
   "source": [
    "# path data\n",
    "pathdata = './datatrain.txt'\n",
    "\n",
    "def read_data(path):\n",
    "    traindata = []\n",
    "    with open(path, 'r', encoding='utf-8') as file:\n",
    "        sents = file.readlines()\n",
    "    for sent in sents:\n",
    "        traindata.append(sent.split())\n",
    "    return traindata"
   ]
  },
  {
   "cell_type": "code",
   "execution_count": 3,
   "metadata": {},
   "outputs": [],
   "source": [
    "train_data = read_data(pathdata)"
   ]
  },
  {
   "cell_type": "code",
   "execution_count": 6,
   "metadata": {},
   "outputs": [],
   "source": [
    "train_data = read_data(pathdata)\n",
    "\n",
    "model = Word2Vec(train_data, vector_size=150, window=10, min_count=2, workers=4, sg=0)\n",
    "model.wv.save(\"./model/word2vec_skipgram.model\")"
   ]
  },
  {
   "cell_type": "code",
   "execution_count": 5,
   "metadata": {},
   "outputs": [],
   "source": [
    "import gensim.models.keyedvectors as word2vec\n",
    "import matplotlib.pyplot as plt\n",
    "from sklearn.decomposition import PCA\n",
    "\n",
    "import os\n",
    "\n",
    "\n"
   ]
  },
  {
   "cell_type": "code",
   "execution_count": 6,
   "metadata": {},
   "outputs": [],
   "source": [
    "model = word2vec.KeyedVectors.load('/media/zhengdefu/KINGSTON/D/UET_VNU/23_24_2/NLP/FramgiaBlog/Blog01_Word_embedding/model/word2vec_skipgram.model')\n",
    "# model = word2vec.KeyedVectors.load('../model/fasttext_gensim.model')\n"
   ]
  },
  {
   "cell_type": "code",
   "execution_count": 10,
   "metadata": {},
   "outputs": [],
   "source": [
    "\n",
    "pathfile = '/media/zhengdefu/KINGSTON/D/UET_VNU/23_24_2/NLP/FramgiaBlog/Blog01_Word_embedding/word2vec_wiki/words'\n",
    "with open(pathfile, 'r', encoding='utf-8') as f:\n",
    "    words = f.readlines()\n",
    "    words = [word.strip() for word in words]\n",
    "\n",
    "\n",
    "words_np = []\n",
    "words_label = []\n",
    "\n",
    "for word in model.key_to_index:\n",
    "    if word in words:\n",
    "        words_np.append(model[word])\n",
    "        words_label.append(word)\n",
    "\n"
   ]
  },
  {
   "cell_type": "code",
   "execution_count": 11,
   "metadata": {},
   "outputs": [
    {
     "data": {
      "text/plain": [
       "['thời_gian',\n",
       " 'tôi',\n",
       " 'con_trai',\n",
       " 'phụ_nữ',\n",
       " 'em',\n",
       " 'con_gái',\n",
       " 'đàn_ông',\n",
       " 'tiền_bạc',\n",
       " 'giàu_sang']"
      ]
     },
     "execution_count": 11,
     "metadata": {},
     "output_type": "execute_result"
    }
   ],
   "source": [
    "words_label"
   ]
  },
  {
   "cell_type": "code",
   "execution_count": 12,
   "metadata": {},
   "outputs": [],
   "source": [
    "pca = PCA(n_components=2)\n",
    "pca.fit(words_np)\n",
    "reduced = pca.transform(words_np)"
   ]
  },
  {
   "cell_type": "code",
   "execution_count": null,
   "metadata": {},
   "outputs": [],
   "source": []
  }
 ],
 "metadata": {
  "kernelspec": {
   "display_name": "Python 3",
   "language": "python",
   "name": "python3"
  },
  "language_info": {
   "codemirror_mode": {
    "name": "ipython",
    "version": 3
   },
   "file_extension": ".py",
   "mimetype": "text/x-python",
   "name": "python",
   "nbconvert_exporter": "python",
   "pygments_lexer": "ipython3",
   "version": "3.10.12"
  }
 },
 "nbformat": 4,
 "nbformat_minor": 2
}
